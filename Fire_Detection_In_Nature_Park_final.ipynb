{
 "cells": [
  {
   "cell_type": "markdown",
   "id": "18978ccd",
   "metadata": {
    "slideshow": {
     "slide_type": "slide"
    }
   },
   "source": [
    "# Fire detection in Nature park"
   ]
  },
  {
   "cell_type": "markdown",
   "id": "cb8eee11",
   "metadata": {
    "slideshow": {
     "slide_type": "-"
    }
   },
   "source": [
    "### Problem Setting\n",
    "Fires in natural areas whether it is in a forest, natural park, or any other natural setting, is also called wildfires. Wildfires feed on natural combustion materials such as bushes, wood, and so on. Wildfires can either start due to natural reasons such as drought or in rare cases lighting but they could also occur due to human factors such as burning campfires or cigarettes. There are 3 factors that wildfire needs to grow any combustion materials natural or otherwise, oxygen and a heat source, then depending on environmental factors such as wind, the amount of fuel/combustion material near, and so on.\n",
    "\n",
    "According to [reports](https://sgp.fas.org/crs/misc/IF10244.pdf), wildfires in the US alone since 2000 have been reported to have an annual average of 70,072 burning in the process an annual average of 7.0 million acres. \n",
    "\n",
    "Wildfires can cause a wide variety of issues as the amount of animal, and human lives fatalities in the process are not negligible, in addition to the effect it has on the ecosystem and biodiversity. Wildfires release a considerable amount of greenhouse gases as well that are recognized as air pollutants.\n",
    "There is agreement in the scientific community that climate change is contributing to the increased risk of wildfires and therefore would mean that wildfires would occur more frequently. Some regions take decades to recover for the ecosystem to recover from the damage caused by the wildfire.\n",
    "\n",
    "A timely response to the wildfire and correctly estimating the size and severity of the fire can be of crucial importance. \n",
    "\n",
    "\n"
   ]
  },
  {
   "cell_type": "markdown",
   "id": "141e3053",
   "metadata": {
    "slideshow": {
     "slide_type": "subslide"
    }
   },
   "source": [
    "In this project, I attempt to use a machine learning approach to accurately predict the area affected by a wildfire using the data of the Fire-Wheather-Index (FWI) and thus responding appropriately to the fire breakouts. In the machine learning world, this problem would be considered a regression problem since the prediction variable(affected area) is continuous. "
   ]
  },
  {
   "cell_type": "markdown",
   "id": "14dbd4b2",
   "metadata": {
    "slideshow": {
     "slide_type": "slide"
    }
   },
   "source": [
    "### EDA"
   ]
  },
  {
   "cell_type": "code",
   "execution_count": 2,
   "id": "62f8b0af",
   "metadata": {
    "slideshow": {
     "slide_type": "skip"
    }
   },
   "outputs": [],
   "source": [
    "#Imports\n",
    "import pandas as pd \n",
    "import seaborn as sns\n",
    "import matplotlib.pyplot as plt\n",
    "import numpy as np\n",
    "from sklearn.preprocessing import OneHotEncoder\n",
    "from sklearn import preprocessing\n",
    "from sklearn.preprocessing import PolynomialFeatures\n",
    "from sklearn.linear_model import Lasso,Ridge\n",
    "from sklearn.feature_selection import SequentialFeatureSelector\n",
    "from sklearn.linear_model import LinearRegression\n",
    "from sklearn.model_selection import train_test_split\n",
    "from sklearn.model_selection import GridSearchCV,cross_validate\n",
    "from sklearn.metrics import r2_score,mean_squared_error,mean_absolute_error\n",
    "from sklearn.svm import SVR\n",
    "from sklearn.model_selection import KFold\n",
    "from sklearn.ensemble import RandomForestRegressor\n",
    "import warnings\n",
    "import time\n",
    "\n",
    "warnings.filterwarnings(\"ignore\")\n",
    "sns.set(rc={'figure.figsize':(10,10)})"
   ]
  },
  {
   "cell_type": "code",
   "execution_count": 3,
   "id": "c2909e73",
   "metadata": {
    "slideshow": {
     "slide_type": "-"
    }
   },
   "outputs": [
    {
     "data": {
      "text/html": [
       "<div>\n",
       "<style scoped>\n",
       "    .dataframe tbody tr th:only-of-type {\n",
       "        vertical-align: middle;\n",
       "    }\n",
       "\n",
       "    .dataframe tbody tr th {\n",
       "        vertical-align: top;\n",
       "    }\n",
       "\n",
       "    .dataframe thead th {\n",
       "        text-align: right;\n",
       "    }\n",
       "</style>\n",
       "<table border=\"1\" class=\"dataframe\">\n",
       "  <thead>\n",
       "    <tr style=\"text-align: right;\">\n",
       "      <th></th>\n",
       "      <th>X</th>\n",
       "      <th>Y</th>\n",
       "      <th>month</th>\n",
       "      <th>day</th>\n",
       "      <th>FFMC</th>\n",
       "      <th>DMC</th>\n",
       "      <th>DC</th>\n",
       "      <th>ISI</th>\n",
       "      <th>temp</th>\n",
       "      <th>RH</th>\n",
       "      <th>wind</th>\n",
       "      <th>rain</th>\n",
       "      <th>area</th>\n",
       "    </tr>\n",
       "  </thead>\n",
       "  <tbody>\n",
       "    <tr>\n",
       "      <th>0</th>\n",
       "      <td>7</td>\n",
       "      <td>5</td>\n",
       "      <td>mar</td>\n",
       "      <td>fri</td>\n",
       "      <td>86.2</td>\n",
       "      <td>26.2</td>\n",
       "      <td>94.3</td>\n",
       "      <td>5.1</td>\n",
       "      <td>8.2</td>\n",
       "      <td>51</td>\n",
       "      <td>6.7</td>\n",
       "      <td>0.0</td>\n",
       "      <td>0.0</td>\n",
       "    </tr>\n",
       "    <tr>\n",
       "      <th>1</th>\n",
       "      <td>7</td>\n",
       "      <td>4</td>\n",
       "      <td>oct</td>\n",
       "      <td>tue</td>\n",
       "      <td>90.6</td>\n",
       "      <td>35.4</td>\n",
       "      <td>669.1</td>\n",
       "      <td>6.7</td>\n",
       "      <td>18.0</td>\n",
       "      <td>33</td>\n",
       "      <td>0.9</td>\n",
       "      <td>0.0</td>\n",
       "      <td>0.0</td>\n",
       "    </tr>\n",
       "    <tr>\n",
       "      <th>2</th>\n",
       "      <td>7</td>\n",
       "      <td>4</td>\n",
       "      <td>oct</td>\n",
       "      <td>sat</td>\n",
       "      <td>90.6</td>\n",
       "      <td>43.7</td>\n",
       "      <td>686.9</td>\n",
       "      <td>6.7</td>\n",
       "      <td>14.6</td>\n",
       "      <td>33</td>\n",
       "      <td>1.3</td>\n",
       "      <td>0.0</td>\n",
       "      <td>0.0</td>\n",
       "    </tr>\n",
       "    <tr>\n",
       "      <th>3</th>\n",
       "      <td>8</td>\n",
       "      <td>6</td>\n",
       "      <td>mar</td>\n",
       "      <td>fri</td>\n",
       "      <td>91.7</td>\n",
       "      <td>33.3</td>\n",
       "      <td>77.5</td>\n",
       "      <td>9.0</td>\n",
       "      <td>8.3</td>\n",
       "      <td>97</td>\n",
       "      <td>4.0</td>\n",
       "      <td>0.2</td>\n",
       "      <td>0.0</td>\n",
       "    </tr>\n",
       "    <tr>\n",
       "      <th>4</th>\n",
       "      <td>8</td>\n",
       "      <td>6</td>\n",
       "      <td>mar</td>\n",
       "      <td>sun</td>\n",
       "      <td>89.3</td>\n",
       "      <td>51.3</td>\n",
       "      <td>102.2</td>\n",
       "      <td>9.6</td>\n",
       "      <td>11.4</td>\n",
       "      <td>99</td>\n",
       "      <td>1.8</td>\n",
       "      <td>0.0</td>\n",
       "      <td>0.0</td>\n",
       "    </tr>\n",
       "  </tbody>\n",
       "</table>\n",
       "</div>"
      ],
      "text/plain": [
       "   X  Y month  day  FFMC   DMC     DC  ISI  temp  RH  wind  rain  area\n",
       "0  7  5   mar  fri  86.2  26.2   94.3  5.1   8.2  51   6.7   0.0   0.0\n",
       "1  7  4   oct  tue  90.6  35.4  669.1  6.7  18.0  33   0.9   0.0   0.0\n",
       "2  7  4   oct  sat  90.6  43.7  686.9  6.7  14.6  33   1.3   0.0   0.0\n",
       "3  8  6   mar  fri  91.7  33.3   77.5  9.0   8.3  97   4.0   0.2   0.0\n",
       "4  8  6   mar  sun  89.3  51.3  102.2  9.6  11.4  99   1.8   0.0   0.0"
      ]
     },
     "execution_count": 3,
     "metadata": {},
     "output_type": "execute_result"
    }
   ],
   "source": [
    "#Read in data\n",
    "df=pd.read_csv('fires.csv')\n",
    "df.head()"
   ]
  },
  {
   "cell_type": "markdown",
   "id": "97b6324d",
   "metadata": {
    "slideshow": {
     "slide_type": "subslide"
    }
   },
   "source": [
    "#### Variables \n",
    "> X,Y: are coordinates on the map\n",
    "\n",
    "> day , month: represent the day and month the fire happened\n",
    "\n",
    ">FFMC:represents fuel moisture of forest litter fuels under the shade of a forest canopy. It is intended to represent moisture conditions for shaded litter fuels, the equivalent of 16-hour timelag. It ranges from 0-101. Subtracting the FFMC value from 100 can provide an estimate for the equivalent (approximately 10h) fuel moisture content, most accurate when FFMC values are roughly above 80.\n",
    "\n",
    ">DMC: represents fuel moisture of decomposed organic material underneath the litter. System designers suggest that it is represents moisture conditions for the equivalent of 15-day (or 360 hr) timelag fuels. It is unitless and open ended. It may provide insight to live fuel moisture stress.\n",
    "\n",
    ">DC: represents drying deep into the soil. It approximates moisture conditions for the equivalent of 53-day (1272 hour) timelag fuels. It is unitless, with a maximum value of 1000. Extreme drought conditions have produced DC values near 800.\n",
    "\n"
   ]
  },
  {
   "cell_type": "markdown",
   "id": "c8ff41ec",
   "metadata": {
    "slideshow": {
     "slide_type": "subslide"
    }
   },
   "source": [
    ">ISI:  It integrates fuel moisture for fine dead fuels and surface windspeed to estimate a spread potential. ISI is a key input for fire behavior predictions in the FBP system. It is unitless and open ended.\n",
    "\n",
    ">temp :temperature in degrees Celsius: 2.2 to 33.3\n",
    "\n",
    ">RH :relative humidity in %: 15 to 100\n",
    "\n",
    "> wind :wind velocity in km/h: 0.4 to 9.4\n",
    "\n",
    "> rain :rainfall in mm/m2 0.0 to 6.4\n",
    "\n",
    "> area :forest area that has been burnt in hectare: 0.09 to 1090.84"
   ]
  },
  {
   "cell_type": "code",
   "execution_count": 4,
   "id": "3db1b746",
   "metadata": {
    "slideshow": {
     "slide_type": "subslide"
    }
   },
   "outputs": [
    {
     "name": "stdout",
     "output_type": "stream",
     "text": [
      "<class 'pandas.core.frame.DataFrame'>\n",
      "RangeIndex: 517 entries, 0 to 516\n",
      "Data columns (total 13 columns):\n",
      " #   Column  Non-Null Count  Dtype  \n",
      "---  ------  --------------  -----  \n",
      " 0   X       517 non-null    int64  \n",
      " 1   Y       517 non-null    int64  \n",
      " 2   month   517 non-null    object \n",
      " 3   day     517 non-null    object \n",
      " 4   FFMC    517 non-null    float64\n",
      " 5   DMC     517 non-null    float64\n",
      " 6   DC      517 non-null    float64\n",
      " 7   ISI     517 non-null    float64\n",
      " 8   temp    517 non-null    float64\n",
      " 9   RH      517 non-null    int64  \n",
      " 10  wind    517 non-null    float64\n",
      " 11  rain    517 non-null    float64\n",
      " 12  area    517 non-null    float64\n",
      "dtypes: float64(8), int64(3), object(2)\n",
      "memory usage: 52.6+ KB\n"
     ]
    }
   ],
   "source": [
    "#Check missing data and data type\n",
    "df.info()"
   ]
  },
  {
   "cell_type": "code",
   "execution_count": null,
   "id": "beb979e4",
   "metadata": {},
   "outputs": [],
   "source": []
  },
  {
   "cell_type": "code",
   "execution_count": 5,
   "id": "2a1f623f",
   "metadata": {
    "slideshow": {
     "slide_type": "subslide"
    }
   },
   "outputs": [
    {
     "data": {
      "text/html": [
       "<div>\n",
       "<style scoped>\n",
       "    .dataframe tbody tr th:only-of-type {\n",
       "        vertical-align: middle;\n",
       "    }\n",
       "\n",
       "    .dataframe tbody tr th {\n",
       "        vertical-align: top;\n",
       "    }\n",
       "\n",
       "    .dataframe thead th {\n",
       "        text-align: right;\n",
       "    }\n",
       "</style>\n",
       "<table border=\"1\" class=\"dataframe\">\n",
       "  <thead>\n",
       "    <tr style=\"text-align: right;\">\n",
       "      <th></th>\n",
       "      <th>X</th>\n",
       "      <th>Y</th>\n",
       "      <th>FFMC</th>\n",
       "      <th>DMC</th>\n",
       "      <th>DC</th>\n",
       "      <th>ISI</th>\n",
       "      <th>temp</th>\n",
       "      <th>RH</th>\n",
       "      <th>wind</th>\n",
       "      <th>rain</th>\n",
       "      <th>area</th>\n",
       "    </tr>\n",
       "  </thead>\n",
       "  <tbody>\n",
       "    <tr>\n",
       "      <th>count</th>\n",
       "      <td>517.000000</td>\n",
       "      <td>517.000000</td>\n",
       "      <td>517.000000</td>\n",
       "      <td>517.000000</td>\n",
       "      <td>517.000000</td>\n",
       "      <td>517.000000</td>\n",
       "      <td>517.000000</td>\n",
       "      <td>517.000000</td>\n",
       "      <td>517.000000</td>\n",
       "      <td>517.000000</td>\n",
       "      <td>517.000000</td>\n",
       "    </tr>\n",
       "    <tr>\n",
       "      <th>mean</th>\n",
       "      <td>4.669246</td>\n",
       "      <td>4.299807</td>\n",
       "      <td>90.644681</td>\n",
       "      <td>110.872340</td>\n",
       "      <td>547.940039</td>\n",
       "      <td>9.021663</td>\n",
       "      <td>18.889168</td>\n",
       "      <td>44.288201</td>\n",
       "      <td>4.017602</td>\n",
       "      <td>0.021663</td>\n",
       "      <td>12.847292</td>\n",
       "    </tr>\n",
       "    <tr>\n",
       "      <th>std</th>\n",
       "      <td>2.313778</td>\n",
       "      <td>1.229900</td>\n",
       "      <td>5.520111</td>\n",
       "      <td>64.046482</td>\n",
       "      <td>248.066192</td>\n",
       "      <td>4.559477</td>\n",
       "      <td>5.806625</td>\n",
       "      <td>16.317469</td>\n",
       "      <td>1.791653</td>\n",
       "      <td>0.295959</td>\n",
       "      <td>63.655818</td>\n",
       "    </tr>\n",
       "    <tr>\n",
       "      <th>min</th>\n",
       "      <td>1.000000</td>\n",
       "      <td>2.000000</td>\n",
       "      <td>18.700000</td>\n",
       "      <td>1.100000</td>\n",
       "      <td>7.900000</td>\n",
       "      <td>0.000000</td>\n",
       "      <td>2.200000</td>\n",
       "      <td>15.000000</td>\n",
       "      <td>0.400000</td>\n",
       "      <td>0.000000</td>\n",
       "      <td>0.000000</td>\n",
       "    </tr>\n",
       "    <tr>\n",
       "      <th>25%</th>\n",
       "      <td>3.000000</td>\n",
       "      <td>4.000000</td>\n",
       "      <td>90.200000</td>\n",
       "      <td>68.600000</td>\n",
       "      <td>437.700000</td>\n",
       "      <td>6.500000</td>\n",
       "      <td>15.500000</td>\n",
       "      <td>33.000000</td>\n",
       "      <td>2.700000</td>\n",
       "      <td>0.000000</td>\n",
       "      <td>0.000000</td>\n",
       "    </tr>\n",
       "    <tr>\n",
       "      <th>50%</th>\n",
       "      <td>4.000000</td>\n",
       "      <td>4.000000</td>\n",
       "      <td>91.600000</td>\n",
       "      <td>108.300000</td>\n",
       "      <td>664.200000</td>\n",
       "      <td>8.400000</td>\n",
       "      <td>19.300000</td>\n",
       "      <td>42.000000</td>\n",
       "      <td>4.000000</td>\n",
       "      <td>0.000000</td>\n",
       "      <td>0.520000</td>\n",
       "    </tr>\n",
       "    <tr>\n",
       "      <th>75%</th>\n",
       "      <td>7.000000</td>\n",
       "      <td>5.000000</td>\n",
       "      <td>92.900000</td>\n",
       "      <td>142.400000</td>\n",
       "      <td>713.900000</td>\n",
       "      <td>10.800000</td>\n",
       "      <td>22.800000</td>\n",
       "      <td>53.000000</td>\n",
       "      <td>4.900000</td>\n",
       "      <td>0.000000</td>\n",
       "      <td>6.570000</td>\n",
       "    </tr>\n",
       "    <tr>\n",
       "      <th>max</th>\n",
       "      <td>9.000000</td>\n",
       "      <td>9.000000</td>\n",
       "      <td>96.200000</td>\n",
       "      <td>291.300000</td>\n",
       "      <td>860.600000</td>\n",
       "      <td>56.100000</td>\n",
       "      <td>33.300000</td>\n",
       "      <td>100.000000</td>\n",
       "      <td>9.400000</td>\n",
       "      <td>6.400000</td>\n",
       "      <td>1090.840000</td>\n",
       "    </tr>\n",
       "  </tbody>\n",
       "</table>\n",
       "</div>"
      ],
      "text/plain": [
       "                X           Y        FFMC         DMC          DC         ISI  \\\n",
       "count  517.000000  517.000000  517.000000  517.000000  517.000000  517.000000   \n",
       "mean     4.669246    4.299807   90.644681  110.872340  547.940039    9.021663   \n",
       "std      2.313778    1.229900    5.520111   64.046482  248.066192    4.559477   \n",
       "min      1.000000    2.000000   18.700000    1.100000    7.900000    0.000000   \n",
       "25%      3.000000    4.000000   90.200000   68.600000  437.700000    6.500000   \n",
       "50%      4.000000    4.000000   91.600000  108.300000  664.200000    8.400000   \n",
       "75%      7.000000    5.000000   92.900000  142.400000  713.900000   10.800000   \n",
       "max      9.000000    9.000000   96.200000  291.300000  860.600000   56.100000   \n",
       "\n",
       "             temp          RH        wind        rain         area  \n",
       "count  517.000000  517.000000  517.000000  517.000000   517.000000  \n",
       "mean    18.889168   44.288201    4.017602    0.021663    12.847292  \n",
       "std      5.806625   16.317469    1.791653    0.295959    63.655818  \n",
       "min      2.200000   15.000000    0.400000    0.000000     0.000000  \n",
       "25%     15.500000   33.000000    2.700000    0.000000     0.000000  \n",
       "50%     19.300000   42.000000    4.000000    0.000000     0.520000  \n",
       "75%     22.800000   53.000000    4.900000    0.000000     6.570000  \n",
       "max     33.300000  100.000000    9.400000    6.400000  1090.840000  "
      ]
     },
     "execution_count": 5,
     "metadata": {},
     "output_type": "execute_result"
    }
   ],
   "source": [
    "#getting summary statistics for the numerical variables \n",
    "df.describe()"
   ]
  },
  {
   "cell_type": "code",
   "execution_count": 6,
   "id": "bd08109a",
   "metadata": {
    "slideshow": {
     "slide_type": "subslide"
    }
   },
   "outputs": [
    {
     "name": "stdout",
     "output_type": "stream",
     "text": [
      "['fri' 'tue' 'sat' 'sun' 'mon' 'wed' 'thu']\n",
      "['mar' 'oct' 'aug' 'sep' 'apr' 'jun' 'jul' 'feb' 'jan' 'dec' 'may' 'nov']\n"
     ]
    }
   ],
   "source": [
    "#checking day values \n",
    "print(df.day.unique())\n",
    "#checking month values \n",
    "print(df.month.unique())"
   ]
  },
  {
   "cell_type": "code",
   "execution_count": 7,
   "id": "6ec06c07",
   "metadata": {
    "slideshow": {
     "slide_type": "subslide"
    }
   },
   "outputs": [
    {
     "data": {
      "image/png": "[encoded data removed]",
      "text/plain": [
       "<Figure size 360x360 with 1 Axes>"
      ]
     },
     "metadata": {},
     "output_type": "display_data"
    }
   ],
   "source": [
    "#Checking distribution of area(target variable)\n",
    "sns.displot(df[\"area\"]).set(title='Distirbution of Area');"
   ]
  },
  {
   "cell_type": "markdown",
   "id": "262b49ad",
   "metadata": {
    "slideshow": {
     "slide_type": "subslide"
    }
   },
   "source": [
    "Distribution of area is very concenrated around zero so a transfomation to make it more uniform and thus helps to make  predication easier"
   ]
  },
  {
   "cell_type": "code",
   "execution_count": 8,
   "id": "91c9f139",
   "metadata": {
    "slideshow": {
     "slide_type": "subslide"
    }
   },
   "outputs": [
    {
     "data": {
      "image/png": "[encoded data removed]",
      "text/plain": [
       "<Figure size 360x360 with 1 Axes>"
      ]
     },
     "metadata": {},
     "output_type": "display_data"
    }
   ],
   "source": [
    "#Distribution of Transformed area recommended in sheet and in paper\n",
    "sns.displot(x=np.log(1+df[\"area\"])).set(title='Distirbution of Area Transformed');"
   ]
  },
  {
   "cell_type": "code",
   "execution_count": 52,
   "id": "5033efec",
   "metadata": {
    "slideshow": {
     "slide_type": "subslide"
    }
   },
   "outputs": [
    {
     "data": {
      "image/png": "[encoded data removed]",
      "text/plain": [
       "<Figure size 720x720 with 6 Axes>"
      ]
     },
     "metadata": {},
     "output_type": "display_data"
    }
   ],
   "source": [
    "#Histogram of all numerical variables \n",
    "df[['FFMC','DMC','DC','ISI','RH','wind']].hist(bins=30, figsize=(10, 10));"
   ]
  },
  {
   "cell_type": "code",
   "execution_count": 49,
   "id": "05b44ad7",
   "metadata": {},
   "outputs": [
    {
     "data": {
      "image/png": "[encoded data removed]",
      "text/plain": [
       "<Figure size 504x504 with 2 Axes>"
      ]
     },
     "metadata": {},
     "output_type": "display_data"
    }
   ],
   "source": [
    "df[['rain','temp']].hist(bins=30, figsize=(7, 7));"
   ]
  },
  {
   "cell_type": "markdown",
   "id": "3825ee1c",
   "metadata": {
    "slideshow": {
     "slide_type": "notes"
    }
   },
   "source": [
    ">FFMC:values are concentrated around 90 which is also the peak similar to a normal distribution shifted \n",
    "\n",
    ">DMC: Two peaks around 40 and 100 similar to a combination of two gaussians.\n",
    "\n",
    ">DC: Two peaks around 100 and 700 similar to a combination of two gaussians.\n",
    "\n",
    ">ISI:  Values are concentrated around 10 which is also the peak similar to a normal distribution shifted \n",
    "\n",
    ">temp : Looks pretty much like a normal distribution centered around 20 \n",
    "\n",
    ">RH :Peak around 30 could be a mix of guassians \n",
    "\n",
    "> wind : shaped like a guassian but with a wide peak\n",
    "\n",
    "> rain : very non uniform and centered near 0 \n"
   ]
  },
  {
   "cell_type": "code",
   "execution_count": 10,
   "id": "6f900c48",
   "metadata": {
    "slideshow": {
     "slide_type": "subslide"
    }
   },
   "outputs": [
    {
     "data": {
      "text/html": [
       "<div>\n",
       "<style scoped>\n",
       "    .dataframe tbody tr th:only-of-type {\n",
       "        vertical-align: middle;\n",
       "    }\n",
       "\n",
       "    .dataframe tbody tr th {\n",
       "        vertical-align: top;\n",
       "    }\n",
       "\n",
       "    .dataframe thead th {\n",
       "        text-align: right;\n",
       "    }\n",
       "</style>\n",
       "<table border=\"1\" class=\"dataframe\">\n",
       "  <thead>\n",
       "    <tr style=\"text-align: right;\">\n",
       "      <th></th>\n",
       "      <th>X</th>\n",
       "      <th>Y</th>\n",
       "      <th>FFMC</th>\n",
       "      <th>DMC</th>\n",
       "      <th>DC</th>\n",
       "      <th>ISI</th>\n",
       "      <th>temp</th>\n",
       "      <th>RH</th>\n",
       "      <th>wind</th>\n",
       "      <th>rain</th>\n",
       "      <th>area</th>\n",
       "    </tr>\n",
       "  </thead>\n",
       "  <tbody>\n",
       "    <tr>\n",
       "      <th>X</th>\n",
       "      <td>1.000000</td>\n",
       "      <td>0.539548</td>\n",
       "      <td>-0.021039</td>\n",
       "      <td>-0.048384</td>\n",
       "      <td>-0.085916</td>\n",
       "      <td>0.006210</td>\n",
       "      <td>-0.051258</td>\n",
       "      <td>0.085223</td>\n",
       "      <td>0.018798</td>\n",
       "      <td>0.065387</td>\n",
       "      <td>0.063385</td>\n",
       "    </tr>\n",
       "    <tr>\n",
       "      <th>Y</th>\n",
       "      <td>0.539548</td>\n",
       "      <td>1.000000</td>\n",
       "      <td>-0.046308</td>\n",
       "      <td>0.007782</td>\n",
       "      <td>-0.101178</td>\n",
       "      <td>-0.024488</td>\n",
       "      <td>-0.024103</td>\n",
       "      <td>0.062221</td>\n",
       "      <td>-0.020341</td>\n",
       "      <td>0.033234</td>\n",
       "      <td>0.044873</td>\n",
       "    </tr>\n",
       "    <tr>\n",
       "      <th>FFMC</th>\n",
       "      <td>-0.021039</td>\n",
       "      <td>-0.046308</td>\n",
       "      <td>1.000000</td>\n",
       "      <td>0.382619</td>\n",
       "      <td>0.330512</td>\n",
       "      <td>0.531805</td>\n",
       "      <td>0.431532</td>\n",
       "      <td>-0.300995</td>\n",
       "      <td>-0.028485</td>\n",
       "      <td>0.056702</td>\n",
       "      <td>0.040122</td>\n",
       "    </tr>\n",
       "    <tr>\n",
       "      <th>DMC</th>\n",
       "      <td>-0.048384</td>\n",
       "      <td>0.007782</td>\n",
       "      <td>0.382619</td>\n",
       "      <td>1.000000</td>\n",
       "      <td>0.682192</td>\n",
       "      <td>0.305128</td>\n",
       "      <td>0.469594</td>\n",
       "      <td>0.073795</td>\n",
       "      <td>-0.105342</td>\n",
       "      <td>0.074790</td>\n",
       "      <td>0.072994</td>\n",
       "    </tr>\n",
       "    <tr>\n",
       "      <th>DC</th>\n",
       "      <td>-0.085916</td>\n",
       "      <td>-0.101178</td>\n",
       "      <td>0.330512</td>\n",
       "      <td>0.682192</td>\n",
       "      <td>1.000000</td>\n",
       "      <td>0.229154</td>\n",
       "      <td>0.496208</td>\n",
       "      <td>-0.039192</td>\n",
       "      <td>-0.203466</td>\n",
       "      <td>0.035861</td>\n",
       "      <td>0.049383</td>\n",
       "    </tr>\n",
       "    <tr>\n",
       "      <th>ISI</th>\n",
       "      <td>0.006210</td>\n",
       "      <td>-0.024488</td>\n",
       "      <td>0.531805</td>\n",
       "      <td>0.305128</td>\n",
       "      <td>0.229154</td>\n",
       "      <td>1.000000</td>\n",
       "      <td>0.394287</td>\n",
       "      <td>-0.132517</td>\n",
       "      <td>0.106826</td>\n",
       "      <td>0.067668</td>\n",
       "      <td>0.008258</td>\n",
       "    </tr>\n",
       "    <tr>\n",
       "      <th>temp</th>\n",
       "      <td>-0.051258</td>\n",
       "      <td>-0.024103</td>\n",
       "      <td>0.431532</td>\n",
       "      <td>0.469594</td>\n",
       "      <td>0.496208</td>\n",
       "      <td>0.394287</td>\n",
       "      <td>1.000000</td>\n",
       "      <td>-0.527390</td>\n",
       "      <td>-0.227116</td>\n",
       "      <td>0.069491</td>\n",
       "      <td>0.097844</td>\n",
       "    </tr>\n",
       "    <tr>\n",
       "      <th>RH</th>\n",
       "      <td>0.085223</td>\n",
       "      <td>0.062221</td>\n",
       "      <td>-0.300995</td>\n",
       "      <td>0.073795</td>\n",
       "      <td>-0.039192</td>\n",
       "      <td>-0.132517</td>\n",
       "      <td>-0.527390</td>\n",
       "      <td>1.000000</td>\n",
       "      <td>0.069410</td>\n",
       "      <td>0.099751</td>\n",
       "      <td>-0.075519</td>\n",
       "    </tr>\n",
       "    <tr>\n",
       "      <th>wind</th>\n",
       "      <td>0.018798</td>\n",
       "      <td>-0.020341</td>\n",
       "      <td>-0.028485</td>\n",
       "      <td>-0.105342</td>\n",
       "      <td>-0.203466</td>\n",
       "      <td>0.106826</td>\n",
       "      <td>-0.227116</td>\n",
       "      <td>0.069410</td>\n",
       "      <td>1.000000</td>\n",
       "      <td>0.061119</td>\n",
       "      <td>0.012317</td>\n",
       "    </tr>\n",
       "    <tr>\n",
       "      <th>rain</th>\n",
       "      <td>0.065387</td>\n",
       "      <td>0.033234</td>\n",
       "      <td>0.056702</td>\n",
       "      <td>0.074790</td>\n",
       "      <td>0.035861</td>\n",
       "      <td>0.067668</td>\n",
       "      <td>0.069491</td>\n",
       "      <td>0.099751</td>\n",
       "      <td>0.061119</td>\n",
       "      <td>1.000000</td>\n",
       "      <td>-0.007366</td>\n",
       "    </tr>\n",
       "    <tr>\n",
       "      <th>area</th>\n",
       "      <td>0.063385</td>\n",
       "      <td>0.044873</td>\n",
       "      <td>0.040122</td>\n",
       "      <td>0.072994</td>\n",
       "      <td>0.049383</td>\n",
       "      <td>0.008258</td>\n",
       "      <td>0.097844</td>\n",
       "      <td>-0.075519</td>\n",
       "      <td>0.012317</td>\n",
       "      <td>-0.007366</td>\n",
       "      <td>1.000000</td>\n",
       "    </tr>\n",
       "  </tbody>\n",
       "</table>\n",
       "</div>"
      ],
      "text/plain": [
       "             X         Y      FFMC       DMC        DC       ISI      temp  \\\n",
       "X     1.000000  0.539548 -0.021039 -0.048384 -0.085916  0.006210 -0.051258   \n",
       "Y     0.539548  1.000000 -0.046308  0.007782 -0.101178 -0.024488 -0.024103   \n",
       "FFMC -0.021039 -0.046308  1.000000  0.382619  0.330512  0.531805  0.431532   \n",
       "DMC  -0.048384  0.007782  0.382619  1.000000  0.682192  0.305128  0.469594   \n",
       "DC   -0.085916 -0.101178  0.330512  0.682192  1.000000  0.229154  0.496208   \n",
       "ISI   0.006210 -0.024488  0.531805  0.305128  0.229154  1.000000  0.394287   \n",
       "temp -0.051258 -0.024103  0.431532  0.469594  0.496208  0.394287  1.000000   \n",
       "RH    0.085223  0.062221 -0.300995  0.073795 -0.039192 -0.132517 -0.527390   \n",
       "wind  0.018798 -0.020341 -0.028485 -0.105342 -0.203466  0.106826 -0.227116   \n",
       "rain  0.065387  0.033234  0.056702  0.074790  0.035861  0.067668  0.069491   \n",
       "area  0.063385  0.044873  0.040122  0.072994  0.049383  0.008258  0.097844   \n",
       "\n",
       "            RH      wind      rain      area  \n",
       "X     0.085223  0.018798  0.065387  0.063385  \n",
       "Y     0.062221 -0.020341  0.033234  0.044873  \n",
       "FFMC -0.300995 -0.028485  0.056702  0.040122  \n",
       "DMC   0.073795 -0.105342  0.074790  0.072994  \n",
       "DC   -0.039192 -0.203466  0.035861  0.049383  \n",
       "ISI  -0.132517  0.106826  0.067668  0.008258  \n",
       "temp -0.527390 -0.227116  0.069491  0.097844  \n",
       "RH    1.000000  0.069410  0.099751 -0.075519  \n",
       "wind  0.069410  1.000000  0.061119  0.012317  \n",
       "rain  0.099751  0.061119  1.000000 -0.007366  \n",
       "area -0.075519  0.012317 -0.007366  1.000000  "
      ]
     },
     "execution_count": 10,
     "metadata": {},
     "output_type": "execute_result"
    }
   ],
   "source": [
    "#checking only linear correlation between features\n",
    "df.corr()"
   ]
  },
  {
   "cell_type": "markdown",
   "id": "aa801586",
   "metadata": {
    "slideshow": {
     "slide_type": "subslide"
    }
   },
   "source": [
    "It does look like the linear correlation is weak between any of the input variables and our target variable area"
   ]
  },
  {
   "cell_type": "code",
   "execution_count": 11,
   "id": "d65886cd",
   "metadata": {
    "slideshow": {
     "slide_type": "subslide"
    }
   },
   "outputs": [],
   "source": [
    "#check for polynomial linear correlation \n",
    "poly = PolynomialFeatures(2,include_bias=False)#setting the polynomial power to 2 for all terms\n",
    "df_squareded=poly.fit_transform(df[\n",
    "    ['DC', 'DMC', 'FFMC', 'ISI', 'RH', 'rain', 'temp',  'wind']])#chose numeric values which made sense\n"
   ]
  },
  {
   "cell_type": "code",
   "execution_count": 12,
   "id": "e68fe04a",
   "metadata": {
    "slideshow": {
     "slide_type": "skip"
    }
   },
   "outputs": [],
   "source": [
    " #transforming into a dataframe\n",
    "df_squareded=pd.DataFrame(df_squareded, \n",
    "             columns=poly.get_feature_names(\n",
    "                 ['DC', 'DMC', 'FFMC', 'ISI', 'RH', 'rain', 'temp',  'wind']))\n"
   ]
  },
  {
   "cell_type": "code",
   "execution_count": 13,
   "id": "083ad6ca",
   "metadata": {
    "scrolled": true,
    "slideshow": {
     "slide_type": "subslide"
    }
   },
   "outputs": [
    {
     "name": "stdout",
     "output_type": "stream",
     "text": [
      "DMC temp    0.108055\n",
      "temp^2      0.104599\n",
      "dtype: float64\n"
     ]
    }
   ],
   "source": [
    "#checking for any terms with linear correlation to our target variable  above 0.1\n",
    "print(df_squareded.corrwith(df['area'])[df_squareded.corrwith(df['area'])>0.1])"
   ]
  },
  {
   "cell_type": "markdown",
   "id": "5a1cc9c6",
   "metadata": {
    "slideshow": {
     "slide_type": "subslide"
    }
   },
   "source": [
    "> Might be worth exploring adding these combinations to the model to see if performance improves with no overfitting"
   ]
  },
  {
   "cell_type": "markdown",
   "id": "fe463e4f",
   "metadata": {
    "slideshow": {
     "slide_type": "slide"
    }
   },
   "source": [
    "#### Visulaization"
   ]
  },
  {
   "cell_type": "code",
   "execution_count": 14,
   "id": "b6eaea64",
   "metadata": {
    "slideshow": {
     "slide_type": "subslide"
    }
   },
   "outputs": [
    {
     "data": {
      "image/png": "[encoded data removed]",
      "text/plain": [
       "<Figure size 720x720 with 1 Axes>"
      ]
     },
     "metadata": {},
     "output_type": "display_data"
    }
   ],
   "source": [
    "#plotting on a grid the location of the fires with the size of the dots representing the area affectted\n",
    "sns.scatterplot(data=df, x=\"X\", y=\"Y\",size='area',sizes=(0, 500));"
   ]
  },
  {
   "cell_type": "markdown",
   "id": "4c98d614",
   "metadata": {
    "slideshow": {
     "slide_type": "subslide"
    }
   },
   "source": [
    "#### Using weekend as a factor"
   ]
  },
  {
   "cell_type": "code",
   "execution_count": 15,
   "id": "2c09c39a",
   "metadata": {
    "slideshow": {
     "slide_type": "subslide"
    }
   },
   "outputs": [
    {
     "data": {
      "image/png": "[encoded data removed]",
      "text/plain": [
       "<Figure size 720x720 with 1 Axes>"
      ]
     },
     "metadata": {},
     "output_type": "display_data"
    }
   ],
   "source": [
    "#checking if being a weekend has some patterns in size of fires\n",
    "df['weekend']=np.where((df['day']=='sat') | (df['day']=='sun') ,'Weekend', 'Weekday')\n",
    "sns.scatterplot(data=df, x=\"X\", y=\"Y\",size='area',sizes=(0, 500),hue=\"weekend\");"
   ]
  },
  {
   "cell_type": "code",
   "execution_count": 16,
   "id": "596fcbb5",
   "metadata": {
    "slideshow": {
     "slide_type": "subslide"
    }
   },
   "outputs": [
    {
     "name": "stdout",
     "output_type": "stream",
     "text": [
      "number of fires on weekend 179 and number of fires on weekday 338\n"
     ]
    }
   ],
   "source": [
    "print('number of fires on weekend {} and number of fires on weekday {}'.format(\n",
    "    sum(df['weekend']=='Weekend'),sum(df['weekend']=='Weekday')))"
   ]
  },
  {
   "cell_type": "code",
   "execution_count": 17,
   "id": "81aa1a94",
   "metadata": {
    "slideshow": {
     "slide_type": "subslide"
    }
   },
   "outputs": [
    {
     "name": "stdout",
     "output_type": "stream",
     "text": [
      "average area affected on weekend 17.345195530726258 and average area affected on weekday 10.465266272189348\n"
     ]
    }
   ],
   "source": [
    "print('average area affected on weekend {} and average area affected on weekday {}'.\n",
    "      format(\n",
    "df[df['weekend']=='Weekend']['area'].mean(),\n",
    "          df[df['weekend']=='Weekday']['area'].mean()))\n"
   ]
  },
  {
   "cell_type": "markdown",
   "id": "50a73a84",
   "metadata": {
    "slideshow": {
     "slide_type": "subslide"
    }
   },
   "source": [
    "> The number of fires on weekends is 0.52 the number of fires on weekdays where the ratio if it is uniformly distributed over the week  should be 0.4 the number of fires on weekdays\n",
    "\n",
    "> The average area affected on weekend is 17.345 and on weekdays 10.465 which is not a small difference.\n",
    "\n",
    "> It seems that fires on weekends are on average bigger and to some extent more than expected on the weekend"
   ]
  },
  {
   "cell_type": "markdown",
   "id": "7db14298",
   "metadata": {
    "slideshow": {
     "slide_type": "subslide"
    }
   },
   "source": [
    "#### Using seasons as a factor"
   ]
  },
  {
   "cell_type": "code",
   "execution_count": 18,
   "id": "d8c374bd",
   "metadata": {
    "slideshow": {
     "slide_type": "subslide"
    }
   },
   "outputs": [
    {
     "data": {
      "image/png": "[encoded data removed]",
      "text/plain": [
       "<Figure size 720x720 with 1 Axes>"
      ]
     },
     "metadata": {},
     "output_type": "display_data"
    }
   ],
   "source": [
    "#checking if the season affects number of fires and size of area affected \n",
    "conditions = [\n",
    "    (df['month'] == 'aug') | (df['month'] == 'jun') | (df['month'] == 'jul'),\n",
    "    (df['month'] == 'sep') | (df['month'] == 'oct') | (df['month'] == 'nov'),\n",
    "    (df['month'] == 'dec') | (df['month'] == 'jan') | (df['month'] == 'feb'),\n",
    "    (df['month'] == 'mar') | (df['month'] == 'apr') | (df['month'] == 'may')]\n",
    "choices = ['summer', 'autumn', 'winter','spring']\n",
    "df['season'] = np.select(conditions, choices)\n",
    "sns.scatterplot(data=df, x=\"X\", y=\"Y\",size='area',sizes=(0, 500),hue=\"season\");"
   ]
  },
  {
   "cell_type": "code",
   "execution_count": 19,
   "id": "76bca4ff",
   "metadata": {
    "slideshow": {
     "slide_type": "subslide"
    }
   },
   "outputs": [
    {
     "name": "stdout",
     "output_type": "stream",
     "text": [
      "\n",
      "number of fires in summer 233 , number of fires in autumn  188 , \n",
      "number of fires in winter  31, and  number of fires in spring  65\n"
     ]
    }
   ],
   "source": [
    "print('''\n",
    "number of fires in summer {} , number of fires in autumn  {} , \n",
    "number of fires in winter  {}, and  number of fires in spring  {}'''\n",
    ".format(sum(df['season']=='summer'),sum(df['season']=='autumn')\n",
    ",sum(df['season']=='winter'),sum(df['season']=='spring')))\n",
    "\n"
   ]
  },
  {
   "cell_type": "code",
   "execution_count": 20,
   "id": "454c7118",
   "metadata": {
    "slideshow": {
     "slide_type": "subslide"
    }
   },
   "outputs": [
    {
     "name": "stdout",
     "output_type": "stream",
     "text": [
      "\n",
      "average area of fires in summer 12.262317596566525 , average area of fires in autumn  16.94521276595744 ,\n",
      "average area of fires in winter  7.918387096774193, and  average area of fires in spring  5.442461538461539\n"
     ]
    }
   ],
   "source": [
    "print('''\n",
    "average area of fires in summer {} , average area of fires in autumn  {} ,\n",
    "average area of fires in winter  {}, and  average area of fires in spring  {}''' \n",
    ".format(df[df['season']=='summer']['area'].mean(),df[df['season']=='autumn']\n",
    "['area'].mean(),df[df['season']=='winter']['area'].mean(),df[df['season']=='spring']['area'].mean()))\n",
    "\n",
    "\n"
   ]
  },
  {
   "cell_type": "markdown",
   "id": "a7dad388",
   "metadata": {
    "slideshow": {
     "slide_type": "subslide"
    }
   },
   "source": [
    "> Number of fires in summer and autumn are much more than spring and winter maybe due to the high tempreatures, the availiability of natural fuels\n",
    "\n",
    "> The average area affectted seems to be greatest in autumn followed by summer and it seems there is a gap between these two seasons , and spring annd winter"
   ]
  },
  {
   "cell_type": "markdown",
   "id": "2b37665a",
   "metadata": {
    "slideshow": {
     "slide_type": "slide"
    }
   },
   "source": [
    "### Feature engineering "
   ]
  },
  {
   "cell_type": "markdown",
   "id": "3837dc1c",
   "metadata": {
    "slideshow": {
     "slide_type": "subslide"
    }
   },
   "source": [
    "> To include the caterogical variables in my models I will use one-hot-encoding to create columns for n-1 classes of the caterogical variable with value 1 if the row beloings to that class and zero otherwise.\n",
    "\n",
    "> To include polynomials factors I will concat all of them to the dataframe\n",
    "\n",
    "> I preform minimum maximum normalization for the numeric variables to make sure that the difference in range for each variable doesn't affect although not all models benefit from this it doesn't harm them for sure, and some models like linear regression really do benefit from  it.\n",
    "\n",
    ">The min max transformation preformed by sklearn is X_std = (X - X.min) / (X.max - X.min)\n",
    "X_scaled = X_std * (max - min) + min where by default max=1 and min=0"
   ]
  },
  {
   "cell_type": "code",
   "execution_count": 21,
   "id": "f3a410f9",
   "metadata": {
    "slideshow": {
     "slide_type": "subslide"
    }
   },
   "outputs": [],
   "source": [
    "#One hot encoding of day and month\n",
    "df = df.join(pd.get_dummies(df['day'],drop_first=True))\n",
    "df = df.join(pd.get_dummies(df['month'],drop_first=True))\n",
    "df=df.join(pd.get_dummies(df['season'],drop_first=True))\n",
    "df=df.join(pd.get_dummies(df['weekend'],drop_first=True))"
   ]
  },
  {
   "cell_type": "code",
   "execution_count": 22,
   "id": "35eae4c3",
   "metadata": {
    "slideshow": {
     "slide_type": "subslide"
    }
   },
   "outputs": [],
   "source": [
    "#Concat the polynomial features with the original dataframe\n",
    "df=(pd.concat([df,df_squareded],axis=1))\n",
    "df = df.loc[:,~df.columns.duplicated()]"
   ]
  },
  {
   "cell_type": "code",
   "execution_count": 23,
   "id": "ba6267d8",
   "metadata": {
    "slideshow": {
     "slide_type": "subslide"
    }
   },
   "outputs": [],
   "source": [
    "#Normalizing features using minmax normalization which scales the varaiables between 0 and 1\n",
    "scaler = preprocessing.MinMaxScaler()\n",
    "names = ['FFMC','DMC','DC','ISI','RH','wind','rain','temp','DC^2',    \n",
    "         'DC DMC',   'DC FFMC',\n",
    "          'DC ISI',     'DC RH',   'DC rain',   'DC temp',   'DC wind',\n",
    "           'DMC^2',  'DMC FFMC',   'DMC ISI',    'DMC RH',  'DMC rain',\n",
    "        'DMC temp',  'DMC wind',    'FFMC^2',  'FFMC ISI',   'FFMC RH',\n",
    "       'FFMC rain', 'FFMC temp', 'FFMC wind',     'ISI^2',    'ISI RH',\n",
    "        'ISI rain',  'ISI temp',  'ISI wind',      'RH^2',   'RH rain',\n",
    "         'RH temp',   'RH wind',    'rain^2', 'rain temp', 'rain wind',\n",
    "          'temp^2', 'temp wind',    'wind^2']\n",
    "d = scaler.fit_transform(df[names])\n",
    "scaled_df = pd.DataFrame(d, columns=names)"
   ]
  },
  {
   "cell_type": "code",
   "execution_count": 24,
   "id": "067380c2",
   "metadata": {
    "slideshow": {
     "slide_type": "skip"
    }
   },
   "outputs": [],
   "source": [
    "df=(pd.concat([df,scaled_df],axis=1))\n",
    "df = df.loc[:,~df.columns.duplicated()]"
   ]
  },
  {
   "cell_type": "code",
   "execution_count": 25,
   "id": "7be6dce0",
   "metadata": {
    "slideshow": {
     "slide_type": "skip"
    }
   },
   "outputs": [],
   "source": [
    "#dropping hot encoded vectors\n",
    "df.drop(['month','day','season','weekend'],inplace=True,axis=1)"
   ]
  },
  {
   "cell_type": "code",
   "execution_count": 26,
   "id": "017926d0",
   "metadata": {
    "slideshow": {
     "slide_type": "subslide"
    }
   },
   "outputs": [],
   "source": [
    "#Transforming area to log(1+area)\n",
    "df['area_dash']=np.log(1+df[\"area\"])"
   ]
  },
  {
   "cell_type": "code",
   "execution_count": 27,
   "id": "df470f3a",
   "metadata": {
    "slideshow": {
     "slide_type": "subslide"
    }
   },
   "outputs": [
    {
     "name": "stdout",
     "output_type": "stream",
     "text": [
      "X            0.061995\n",
      "DMC          0.067153\n",
      "DC           0.066360\n",
      "temp         0.053487\n",
      "wind         0.066973\n",
      "area         0.524134\n",
      "dec          0.139159\n",
      "sep          0.082638\n",
      "winter       0.060997\n",
      "DC^2         0.060994\n",
      "DC DMC       0.069120\n",
      "DC FFMC      0.067690\n",
      "DC temp      0.086110\n",
      "DC wind      0.087546\n",
      "DMC^2        0.059826\n",
      "DMC FFMC     0.068400\n",
      "DMC temp     0.093185\n",
      "DMC wind     0.069766\n",
      "FFMC temp    0.057828\n",
      "FFMC wind    0.068929\n",
      "temp^2       0.080952\n",
      "temp wind    0.059740\n",
      "wind^2       0.068667\n",
      "area_dash    1.000000\n",
      "dtype: float64\n"
     ]
    }
   ],
   "source": [
    "#checking for correlation with area_dash\n",
    "\n",
    "print(df.corrwith(df['area_dash'])[df.corrwith(df['area_dash'])>0.05])"
   ]
  },
  {
   "cell_type": "markdown",
   "id": "09c7eb58",
   "metadata": {
    "slideshow": {
     "slide_type": "slide"
    }
   },
   "source": [
    "### Feature selection and modelling"
   ]
  },
  {
   "cell_type": "markdown",
   "id": "6528165d",
   "metadata": {
    "slideshow": {
     "slide_type": "subslide"
    }
   },
   "source": [
    "\n",
    "\n",
    "* Since we now have quite a bit of variables might be a good idea to do some feature selection therefore I will use forward feature selection which starts from one variables and keeps adding variable until some scoring metric is not improving anymore.My feature selector will try to choose half of the variables avaliable. \n",
    "\n",
    "* I will also preform hyperparameters optimatization for all models where there are hyperparameters to be tuned in a reasonable scope.\n",
    "\n",
    "* The way I will select features and hyperparameters and then evaulate the model will be through nested cross validation. Using 5-fold CV the data is split in training and testing, then the training data is split once more for a 5-fold CV for hyperparameter optimatization and feature selection, then the best features and hyperaparameters are corss validated on the outer 5-Fold split the results from the 5 splits are then averaged.\n",
    "\n",
    "* The models are ran once with feature selection and once with all the featrues to check the effect of feature selection.\n"
   ]
  },
  {
   "cell_type": "code",
   "execution_count": 28,
   "id": "74dc1234",
   "metadata": {},
   "outputs": [],
   "source": [
    "X=df[df.columns.difference(['area', 'area_dash'])]#Everything except target variable\n",
    "y=df['area_dash']#target variable\n"
   ]
  },
  {
   "cell_type": "code",
   "execution_count": 29,
   "id": "3d663827",
   "metadata": {
    "slideshow": {
     "slide_type": "skip"
    }
   },
   "outputs": [],
   "source": [
    "#Not used \n",
    "def train_and_evaulate(X,y,estimatator):\n",
    "    '''\n",
    "    Describtion:\n",
    "    Function to train and evaulate estimator using cross validation on the full dataset\n",
    "    scores used to evaluate are r2 and MSE.\n",
    "    \n",
    "    input:                                                    output:                  \n",
    "    Estimator : Model                                         res:MSE,R2,MAE average on test CV\n",
    "    X:Independent variable(used for predication)\n",
    "    y:Dependent Variable (Target for predication)\n",
    "    '''\n",
    "    cv=cross_validate(estimatator, X, y, cv=5,\n",
    "                         scoring=('r2', 'neg_mean_squared_error','neg_mean_absolute_error'),\n",
    "                        return_train_score=False)\n",
    "    \n",
    "    return np.mean(-cv['test_neg_mean_squared_error']),np.mean(cv['test_r2']),np.mean(-cv['test_neg_mean_absolute_error'])\n",
    "\n"
   ]
  },
  {
   "cell_type": "code",
   "execution_count": 30,
   "id": "259d052d",
   "metadata": {
    "slideshow": {
     "slide_type": "subslide"
    }
   },
   "outputs": [],
   "source": [
    "def Pipeline(estimator,X,y,scoring,parameters,select_features,tune_parameters):\n",
    "    '''\n",
    "    Describtion:\n",
    "    Our pipeline that trains the model chooses features and the ideal hyperparameters and then \n",
    "    uses the train_and_evaulate function to get the results of the model.\n",
    "    \n",
    "    input                                                                        \n",
    "    Estimator : Model                                                            \n",
    "    X:Independent variable(used for predication)\n",
    "    y:Dependent Variable (Target for predication)\n",
    "    scoring:scoring method used in cross validation and feature selection\n",
    "    parameters: dict of hyperparameters to check the best combination over\n",
    "    select_features: Boolean to decide if feature selection will be done\n",
    "    tune_parameters: Boolean to decide if hyperparameters tuning will be done \n",
    "     \n",
    "     output: \n",
    "     \n",
    "     res:dictornary containing MSE,R2,MAE,Time of model\n",
    "    '''\n",
    "    res={}#dict to return\n",
    "    \n",
    "    cv_outer = KFold(n_splits=5, shuffle=True, random_state=42)\n",
    "    outer_results = {}\n",
    "    outer_results['MSE']=[]\n",
    "    outer_results['R2']=[]\n",
    "    outer_results['MAE']=[]\n",
    "    outer_results['TIME']=[]\n",
    "    for train_ix, test_ix in cv_outer.split(X):\n",
    "        # split data\n",
    "        X_train, X_test = X.iloc[train_ix], X.iloc[test_ix]\n",
    "        y_train, y_test = y.iloc[train_ix], y.iloc[test_ix]\n",
    "        start = time.process_time()\n",
    "        #to record time taken for each model \n",
    "        cv_inner = KFold(n_splits=5, shuffle=True, random_state=42)\n",
    "        if select_features:\n",
    "            sfs = SequentialFeatureSelector(estimator(),scoring=scoring,cv=cv_inner)\n",
    "\n",
    "            X_train_filtered=sfs.fit_transform(X_train, y_train)\n",
    "            X_test_filtered=sfs.transform(X_test)\n",
    "            if tune_parameters:\n",
    "                \n",
    "                \n",
    "                clf = GridSearchCV(estimator(), parameters,scoring=scoring,cv=cv_inner)\n",
    "                clf.fit(X_train_filtered, y_train)\n",
    "                y_pred=clf.predict(X_test_filtered)\n",
    "                MSE=mean_squared_error(y_test,y_pred)\n",
    "                R2=r2_score(y_test,y_pred)\n",
    "                MAE=mean_absolute_error(y_test,y_pred)\n",
    "                t_taken=time.process_time() - start\n",
    "                print('time taken to feature select ,tune hyperparameters and cross validate ',t_taken)\n",
    "\n",
    "            else:\n",
    "\n",
    "                clf=estimator().fit(X_train_filtered, y_train)\n",
    "                y_pred=clf.predict(X_test_filtered)\n",
    "                MSE=mean_squared_error(y_test,y_pred)\n",
    "                R2=r2_score(y_test,y_pred)\n",
    "                MAE=mean_absolute_error(y_test,y_pred)\n",
    "                t_taken=time.process_time() - start\n",
    "                print('time taken to feature select and cross validate ',t_taken)\n",
    "        else:\n",
    "            if tune_parameters:\n",
    "\n",
    "                clf = GridSearchCV(estimator(), parameters,scoring=scoring,cv=cv_inner)\n",
    "                clf.fit(X_train, y_train)\n",
    "                y_pred=clf.predict(X_test)\n",
    "                MSE=mean_squared_error(y_test,y_pred)\n",
    "                R2=r2_score(y_test,y_pred)\n",
    "                MAE=mean_absolute_error(y_test,y_pred)\n",
    "                t_taken=time.process_time() - start\n",
    "                print('time taken to tune hyperparameters and cross validate ',t_taken)\n",
    "\n",
    "            else:\n",
    "\n",
    "                clf=estimator().fit(X_train, y_train)\n",
    "                y_pred=clf.predict(X_test)\n",
    "                MSE=mean_squared_error(y_test,y_pred)\n",
    "                R2=r2_score(y_test,y_pred)\n",
    "                MAE=mean_absolute_error(y_test,y_pred)\n",
    "                t_taken=time.process_time() - start\n",
    "                print('time taken to cross validate ',t_taken)\n",
    "        outer_results['MSE'].append(MSE)\n",
    "        outer_results['MAE'].append(MAE)\n",
    "        outer_results['R2'].append(R2)\n",
    "        outer_results['TIME'].append(t_taken)\n",
    "    \n",
    "    res['MSE']=np.mean(outer_results['MSE'])\n",
    "    res['R2']=np.mean(outer_results['R2'])\n",
    "    res['MAE']=np.mean(outer_results['MAE'])\n",
    "    res['Time']=np.mean(outer_results['TIME'])\n",
    "    return res"
   ]
  },
  {
   "cell_type": "markdown",
   "id": "ab8fa28e",
   "metadata": {
    "slideshow": {
     "slide_type": "slide"
    }
   },
   "source": [
    "### Models and feature selection"
   ]
  },
  {
   "cell_type": "markdown",
   "id": "0de8931b",
   "metadata": {
    "slideshow": {
     "slide_type": "subslide"
    }
   },
   "source": [
    "1. Linear Regression \n",
    "    1. Linear Regression with feature selection.\n",
    "    2. Linear Regression without feature selection.\n",
    "2. Linear Regression with Lasso Regularization\n",
    "    1. Linear Regression with Lasso Regularization, and feature selection.\n",
    "    2. Linear Regression with Lasso Regularization without feature selection.\n",
    "3. Linear Regression with Ridge Regularization \n",
    "    1. Linear Regression with Ridge Regularization and feature selection.\n",
    "    2. Linear Regression with Ridge Regularization without feature selection.\n",
    "4. Supoort vector regression\n",
    "    1. Supoort vector regression with feature selection.\n",
    "    2. Supoort vector regression without feature selection.\n",
    "5. Random Forrest Regression \n",
    "    1. Random Forrest Regression with feature selection.\n",
    "    2. Random Forrest Regression without feature selection."
   ]
  },
  {
   "cell_type": "markdown",
   "id": "dec470c0",
   "metadata": {
    "slideshow": {
     "slide_type": "subslide"
    }
   },
   "source": [
    "#### 1.Linear Regression\n",
    "\n",
    "> In ordinary Linear regression the loss function used is the squared loss it assumes that the target variable Y is related to tthe independent variables X in the manner of $ \\hat{Y}=  \\theta X+C$.\n",
    "\n",
    "\n",
    "> The goal is to choose theta in a way that makes $\\hat{Y}$ as close as possible to the target Y "
   ]
  },
  {
   "cell_type": "markdown",
   "id": "e9468356",
   "metadata": {
    "slideshow": {
     "slide_type": "subslide"
    }
   },
   "source": [
    "> In mathematical terms this is expressed as follows $ \\hat{\\theta}= \\underset{\\theta}{\\operatorname{argmin}} (X \\theta-Y)^T (X \\theta-Y)$\n"
   ]
  },
  {
   "cell_type": "markdown",
   "id": "2759dc38",
   "metadata": {
    "slideshow": {
     "slide_type": "subslide"
    }
   },
   "source": [
    "> Linear Regression is one of the models that can really benefit from feature selection "
   ]
  },
  {
   "cell_type": "markdown",
   "id": "44da9e49",
   "metadata": {
    "slideshow": {
     "slide_type": "skip"
    }
   },
   "source": [
    "##### 1.A Linear Regression with feature selection "
   ]
  },
  {
   "cell_type": "code",
   "execution_count": 31,
   "id": "388c0eaa",
   "metadata": {
    "slideshow": {
     "slide_type": "skip"
    }
   },
   "outputs": [
    {
     "name": "stdout",
     "output_type": "stream",
     "text": [
      "time taken to feature select and cross validate  34.367874\n",
      "time taken to feature select and cross validate  38.284271\n",
      "time taken to feature select and cross validate  35.53029500000001\n",
      "time taken to feature select and cross validate  35.89674799999999\n",
      "time taken to feature select and cross validate  33.529608999999994\n"
     ]
    },
    {
     "data": {
      "text/plain": [
       "{'MSE': 2.476361724544896,\n",
       " 'R2': -0.28393276838854714,\n",
       " 'MAE': 1.204457334807172,\n",
       " 'Time': 35.52175939999999}"
      ]
     },
     "execution_count": 31,
     "metadata": {},
     "output_type": "execute_result"
    }
   ],
   "source": [
    "LR_FS=Pipeline(LinearRegression,X,y,'neg_mean_squared_error',{},select_features=True,tune_parameters=False)\n",
    "LR_FS"
   ]
  },
  {
   "cell_type": "markdown",
   "id": "42b1feec",
   "metadata": {
    "slideshow": {
     "slide_type": "skip"
    }
   },
   "source": [
    "##### 1.B Linear Regression without feature selection "
   ]
  },
  {
   "cell_type": "code",
   "execution_count": 32,
   "id": "cba25609",
   "metadata": {
    "slideshow": {
     "slide_type": "skip"
    }
   },
   "outputs": [
    {
     "name": "stdout",
     "output_type": "stream",
     "text": [
      "time taken to cross validate  0.021398000000004913\n",
      "time taken to cross validate  0.0170710000000156\n",
      "time taken to cross validate  0.015920999999991636\n",
      "time taken to cross validate  0.015769000000005917\n",
      "time taken to cross validate  0.015218000000004395\n"
     ]
    },
    {
     "data": {
      "text/plain": [
       "{'MSE': 4.617187047598079,\n",
       " 'R2': -1.282034645709429,\n",
       " 'MAE': 1.3550017275028126,\n",
       " 'Time': 0.017075400000004494}"
      ]
     },
     "execution_count": 32,
     "metadata": {},
     "output_type": "execute_result"
    }
   ],
   "source": [
    "LR_=Pipeline(LinearRegression,X,y,'neg_mean_squared_error',{},select_features=False,tune_parameters=False)\n",
    "LR_"
   ]
  },
  {
   "cell_type": "markdown",
   "id": "dbf05504",
   "metadata": {
    "slideshow": {
     "slide_type": "subslide"
    }
   },
   "source": [
    "#### 2.Lasso Regression "
   ]
  },
  {
   "cell_type": "markdown",
   "id": "50ebff86",
   "metadata": {
    "slideshow": {
     "slide_type": "subslide"
    }
   },
   "source": [
    "Lasso regression differs from ordinary linear regression as the minimization critrea now includes a regularizer that aims to deter too much increase in the parameters of the model.This regularizer is a hyperparameter that needs to be tunes\n",
    "> In mathematical terms this is expressed as follows $ \\hat{\\theta}= \\underset{\\theta}{\\operatorname{argmin}} (X \\theta-Y)^T (X \\theta-Y) + \\lambda \\theta$ "
   ]
  },
  {
   "cell_type": "markdown",
   "id": "6a6c8bff",
   "metadata": {
    "slideshow": {
     "slide_type": "subslide"
    }
   },
   "source": [
    "> Lasso Regression is one of the models where the coefficents of non-important feaures can go to zero so in some sense it does it's own feature selection which is why similar results are expected with and without feature selection "
   ]
  },
  {
   "cell_type": "markdown",
   "id": "f1869f4f",
   "metadata": {
    "slideshow": {
     "slide_type": "skip"
    }
   },
   "source": [
    "##### 2.A Lasso Regression with feature selection"
   ]
  },
  {
   "cell_type": "code",
   "execution_count": 33,
   "id": "d2ee552b",
   "metadata": {
    "scrolled": true,
    "slideshow": {
     "slide_type": "skip"
    }
   },
   "outputs": [
    {
     "name": "stdout",
     "output_type": "stream",
     "text": [
      "time taken to feature select ,tune hyperparameters and cross validate  10.793268999999981\n",
      "time taken to feature select ,tune hyperparameters and cross validate  8.333348999999998\n",
      "time taken to feature select ,tune hyperparameters and cross validate  9.00510700000001\n",
      "time taken to feature select ,tune hyperparameters and cross validate  11.183481\n",
      "time taken to feature select ,tune hyperparameters and cross validate  8.185461000000004\n"
     ]
    },
    {
     "data": {
      "text/plain": [
       "{'MSE': 2.0235828042202044,\n",
       " 'R2': -0.040117341446570844,\n",
       " 'MAE': 1.1707243000672851,\n",
       " 'Time': 9.5001334}"
      ]
     },
     "execution_count": 33,
     "metadata": {},
     "output_type": "execute_result"
    }
   ],
   "source": [
    "#Hyperparameter space to search from \n",
    "lambdas = np.linspace(0.001, 30, 50)# we choose from 50 equidistant values for lambda between 0.01 and 30\n",
    "grid = dict()\n",
    "grid['alpha'] = lambdas\n",
    "Lasso_FS=Pipeline(Lasso,X,y,'neg_mean_squared_error',grid,select_features=True,tune_parameters=True)\n",
    "Lasso_FS"
   ]
  },
  {
   "cell_type": "markdown",
   "id": "6d7edb56",
   "metadata": {
    "slideshow": {
     "slide_type": "skip"
    }
   },
   "source": [
    "##### 2.B Lasso without feature selection "
   ]
  },
  {
   "cell_type": "code",
   "execution_count": 34,
   "id": "4fb27911",
   "metadata": {
    "slideshow": {
     "slide_type": "skip"
    }
   },
   "outputs": [
    {
     "name": "stdout",
     "output_type": "stream",
     "text": [
      "time taken to tune hyperparameters and cross validate  8.883043999999984\n",
      "time taken to tune hyperparameters and cross validate  9.235694999999993\n",
      "time taken to tune hyperparameters and cross validate  8.791237999999993\n",
      "time taken to tune hyperparameters and cross validate  9.132311000000016\n",
      "time taken to tune hyperparameters and cross validate  9.454955999999981\n"
     ]
    },
    {
     "data": {
      "text/plain": [
       "{'MSE': 1.9749523066765904,\n",
       " 'R2': -0.017520927886965177,\n",
       " 'MAE': 1.163537443156636,\n",
       " 'Time': 9.099448799999994}"
      ]
     },
     "execution_count": 34,
     "metadata": {},
     "output_type": "execute_result"
    }
   ],
   "source": [
    "Lasso_=Pipeline(Lasso,X,y,'neg_mean_squared_error',grid,select_features=False,tune_parameters=True)\n",
    "Lasso_"
   ]
  },
  {
   "cell_type": "markdown",
   "id": "d2ae8eec",
   "metadata": {
    "slideshow": {
     "slide_type": "subslide"
    }
   },
   "source": [
    "#### 3.Ridge regression"
   ]
  },
  {
   "cell_type": "markdown",
   "id": "02fec421",
   "metadata": {
    "slideshow": {
     "slide_type": "subslide"
    }
   },
   "source": [
    "Ridge regression differs from lasso instead of including the theta in the minimaztion critrea we include the square of beta\n",
    "> In mathematical terms this is expressed as follows $ \\hat{\\theta}= \\underset{\\theta}{\\operatorname{argmin}} (X \\theta-Y)^T (X \\theta-Y) + \\lambda \\theta^T \\theta$ "
   ]
  },
  {
   "cell_type": "markdown",
   "id": "41fdf921",
   "metadata": {
    "slideshow": {
     "slide_type": "subslide"
    }
   },
   "source": [
    "> Ridge Regression does make sure that weights for features don't go too big however it doesn't zero out the coefficents like Lasso so it could be intresting here to see the effect of feature selection"
   ]
  },
  {
   "cell_type": "markdown",
   "id": "d43db3c7",
   "metadata": {
    "slideshow": {
     "slide_type": "skip"
    }
   },
   "source": [
    "##### 3.A Ridge regression with feature selection "
   ]
  },
  {
   "cell_type": "code",
   "execution_count": 35,
   "id": "b51f0c0b",
   "metadata": {
    "slideshow": {
     "slide_type": "skip"
    }
   },
   "outputs": [
    {
     "name": "stdout",
     "output_type": "stream",
     "text": [
      "time taken to feature select ,tune hyperparameters and cross validate  33.85614599999997\n",
      "time taken to feature select ,tune hyperparameters and cross validate  32.971134000000006\n",
      "time taken to feature select ,tune hyperparameters and cross validate  34.28036800000001\n",
      "time taken to feature select ,tune hyperparameters and cross validate  33.692957999999976\n",
      "time taken to feature select ,tune hyperparameters and cross validate  34.689797999999996\n"
     ]
    },
    {
     "data": {
      "text/plain": [
       "{'MSE': 2.192416790779887,\n",
       " 'R2': -0.12866505506931677,\n",
       " 'MAE': 1.1806585021252194,\n",
       " 'Time': 33.89808079999999}"
      ]
     },
     "execution_count": 35,
     "metadata": {},
     "output_type": "execute_result"
    }
   ],
   "source": [
    "#we use the same lamda range as in lasso regression \n",
    "Ridge_FS=Pipeline(Ridge,X,y,'neg_mean_squared_error',grid,select_features=True,tune_parameters=True)\n",
    "Ridge_FS"
   ]
  },
  {
   "cell_type": "markdown",
   "id": "dddff66d",
   "metadata": {
    "slideshow": {
     "slide_type": "skip"
    }
   },
   "source": [
    "##### 3.B Ridge regression without feature selection "
   ]
  },
  {
   "cell_type": "code",
   "execution_count": 36,
   "id": "cb877d28",
   "metadata": {
    "slideshow": {
     "slide_type": "skip"
    }
   },
   "outputs": [
    {
     "name": "stdout",
     "output_type": "stream",
     "text": [
      "time taken to tune hyperparameters and cross validate  3.6625700000000165\n",
      "time taken to tune hyperparameters and cross validate  4.249594000000002\n",
      "time taken to tune hyperparameters and cross validate  3.9584499999999707\n",
      "time taken to tune hyperparameters and cross validate  4.63200599999999\n",
      "time taken to tune hyperparameters and cross validate  4.5963840000000005\n"
     ]
    },
    {
     "data": {
      "text/plain": [
       "{'MSE': 2.534021809015539,\n",
       " 'R2': -0.30762087521817844,\n",
       " 'MAE': 1.2036466740894933,\n",
       " 'Time': 4.219800799999996}"
      ]
     },
     "execution_count": 36,
     "metadata": {},
     "output_type": "execute_result"
    }
   ],
   "source": [
    "Ridge_=Pipeline(Ridge,X,y,'neg_mean_squared_error',grid,select_features=False,tune_parameters=True)\n",
    "Ridge_"
   ]
  },
  {
   "cell_type": "markdown",
   "id": "7f2ab309",
   "metadata": {
    "slideshow": {
     "slide_type": "subslide"
    }
   },
   "source": [
    "### 4.Support Vector Machine Regression"
   ]
  },
  {
   "cell_type": "markdown",
   "id": "df15389f",
   "metadata": {
    "slideshow": {
     "slide_type": "subslide"
    }
   },
   "source": [
    ">SVR is a linear algorithm as it tries to find a hyperplane that best fits the data, however if we use kernel transformations to change the data into a different space and find a linear fit there it would be the same as using a non linear algorithm . \n",
    "\n",
    ">SVR optimization critrea is the hinge loss along with a L2-Regularizer.\n",
    "\n",
    ">Boundary lines are the two lines around the plane that create the margain.\n",
    "SVR differs from linear regression in that it tries to fit the best line within a threshold value (Distance between hyperplane and boundary line aka margain).\n",
    "\n",
    ">In SVR, the best fit line is the hyperplane that has the maximum number of points.\n",
    "The fit time complexity of SVR is more than quadratic with the number of samples.\n",
    "\n",
    ">The hyperparameters we tune here are the kernel used to transform the data we consider the radial basis kernel and ploynomial kernel with degree 3 , the regularization parameter(C) which is  an L2 regularizer and the epsilon which is the margain between the hyper plane and the boundary lines."
   ]
  },
  {
   "cell_type": "markdown",
   "id": "286feed2",
   "metadata": {
    "slideshow": {
     "slide_type": "subslide"
    }
   },
   "source": [
    "> Support vector Regression does make sure that weights for features and with kernel transformation does lead to sparse weights so feature selection should not affect the result that much here"
   ]
  },
  {
   "cell_type": "markdown",
   "id": "43335371",
   "metadata": {
    "slideshow": {
     "slide_type": "skip"
    }
   },
   "source": [
    "##### 4.A SVR with feature selection "
   ]
  },
  {
   "cell_type": "code",
   "execution_count": 37,
   "id": "87d219db",
   "metadata": {
    "slideshow": {
     "slide_type": "skip"
    }
   },
   "outputs": [
    {
     "name": "stdout",
     "output_type": "stream",
     "text": [
      "time taken to feature select ,tune hyperparameters and cross validate  67.15133900000001\n",
      "time taken to feature select ,tune hyperparameters and cross validate  65.80815600000005\n",
      "time taken to feature select ,tune hyperparameters and cross validate  67.12085200000001\n",
      "time taken to feature select ,tune hyperparameters and cross validate  66.21354800000006\n",
      "time taken to feature select ,tune hyperparameters and cross validate  67.24029000000007\n"
     ]
    },
    {
     "data": {
      "text/plain": [
       "{'MSE': 1.940774409999694,\n",
       " 'R2': 0.003331665271877493,\n",
       " 'MAE': 1.131513439770964,\n",
       " 'Time': 66.70683700000004}"
      ]
     },
     "execution_count": 37,
     "metadata": {},
     "output_type": "execute_result"
    }
   ],
   "source": [
    "#Hyperparameter space to search from \n",
    "parameters={'kernel' : ('rbf', 'poly'),'C' : [0.1,1,5,10],'epsilon':[0.1,0.5,1]}\n",
    "SVR_FS=Pipeline(SVR,X,y,'neg_mean_squared_error',parameters,select_features=True,tune_parameters=True)\n",
    "SVR_FS"
   ]
  },
  {
   "cell_type": "markdown",
   "id": "7f12be17",
   "metadata": {
    "slideshow": {
     "slide_type": "skip"
    }
   },
   "source": [
    "##### 4.B SVR without feature selection "
   ]
  },
  {
   "cell_type": "code",
   "execution_count": 38,
   "id": "bb6bea04",
   "metadata": {
    "slideshow": {
     "slide_type": "skip"
    }
   },
   "outputs": [
    {
     "name": "stdout",
     "output_type": "stream",
     "text": [
      "time taken to tune hyperparameters and cross validate  1.3819270000000188\n",
      "time taken to tune hyperparameters and cross validate  1.449092999999948\n",
      "time taken to tune hyperparameters and cross validate  1.4391029999999319\n",
      "time taken to tune hyperparameters and cross validate  1.5694389999999885\n",
      "time taken to tune hyperparameters and cross validate  1.5391759999999977\n"
     ]
    },
    {
     "data": {
      "text/plain": [
       "{'MSE': 1.9674164643435368,\n",
       " 'R2': -0.009918789052274547,\n",
       " 'MAE': 1.1390900293793735,\n",
       " 'Time': 1.475747599999977}"
      ]
     },
     "execution_count": 38,
     "metadata": {},
     "output_type": "execute_result"
    }
   ],
   "source": [
    "SVR_=Pipeline(SVR,X,y,'neg_mean_squared_error',parameters,select_features=False,tune_parameters=True)\n",
    "SVR_"
   ]
  },
  {
   "cell_type": "markdown",
   "id": "0c36687c",
   "metadata": {
    "slideshow": {
     "slide_type": "subslide"
    }
   },
   "source": [
    "#### 5.Random forest regression"
   ]
  },
  {
   "cell_type": "markdown",
   "id": "6356ad62",
   "metadata": {
    "slideshow": {
     "slide_type": "subslide"
    }
   },
   "source": [
    "> Random forest is an ensemble method based on building a number of descision trees each with a subset of features and data in an attempt to construct uncorrelated trees. Then for regression the mean outcome of all those trees is given as output. The split quality is determind by default by MSE.\n",
    "\n",
    ">The hyperparameters I will try to tune are the number of trees in the ensemble, the max depth of the tree, and the minimum number of samples required to split a node."
   ]
  },
  {
   "cell_type": "markdown",
   "id": "045ca0db",
   "metadata": {
    "slideshow": {
     "slide_type": "subslide"
    }
   },
   "source": [
    "> Random forest Regression can be usually used for feature selection as well as it creates subsets of features and data for each tree plus the fact it is an ennsemble method of descision trees which are split on the importance of features where importance here would be measured by the variance of he target variable. So I would expect feature selection not to affect the results here too much. "
   ]
  },
  {
   "cell_type": "markdown",
   "id": "14ba9737",
   "metadata": {
    "slideshow": {
     "slide_type": "skip"
    }
   },
   "source": [
    "##### 5.A Random forest regression with feature selection "
   ]
  },
  {
   "cell_type": "code",
   "execution_count": 39,
   "id": "45472409",
   "metadata": {
    "scrolled": true,
    "slideshow": {
     "slide_type": "skip"
    }
   },
   "outputs": [
    {
     "name": "stdout",
     "output_type": "stream",
     "text": [
      "time taken to feature select ,tune hyperparameters and cross validate  848.8480509999999\n",
      "time taken to feature select ,tune hyperparameters and cross validate  848.6623539999998\n",
      "time taken to feature select ,tune hyperparameters and cross validate  902.4356829999997\n",
      "time taken to feature select ,tune hyperparameters and cross validate  856.6628099999998\n",
      "time taken to feature select ,tune hyperparameters and cross validate  858.4237759999996\n"
     ]
    },
    {
     "data": {
      "text/plain": [
       "{'MSE': 1.98063575671883,\n",
       " 'R2': -0.018423388078943413,\n",
       " 'MAE': 1.1593302714418874,\n",
       " 'Time': 863.0065347999998}"
      ]
     },
     "execution_count": 39,
     "metadata": {},
     "output_type": "execute_result"
    }
   ],
   "source": [
    "#Hyperparameter space to search from \n",
    "parameters={'n_estimators' : [50,100,150],'max_depth' : [2,5,10,None],'min_samples_split' : [2,3,5]}\n",
    "RFR_FS=Pipeline(RandomForestRegressor,X,y,'neg_mean_squared_error',parameters,select_features=True,tune_parameters=True)\n",
    "RFR_FS"
   ]
  },
  {
   "cell_type": "markdown",
   "id": "44da88a5",
   "metadata": {
    "slideshow": {
     "slide_type": "skip"
    }
   },
   "source": [
    "##### 5.B Random forest regression without feature selection "
   ]
  },
  {
   "cell_type": "code",
   "execution_count": 40,
   "id": "ef8eb762",
   "metadata": {
    "slideshow": {
     "slide_type": "skip"
    }
   },
   "outputs": [
    {
     "name": "stdout",
     "output_type": "stream",
     "text": [
      "time taken to tune hyperparameters and cross validate  53.652508000000125\n",
      "time taken to tune hyperparameters and cross validate  55.319086999999854\n",
      "time taken to tune hyperparameters and cross validate  54.93473600000016\n",
      "time taken to tune hyperparameters and cross validate  52.174433000000136\n",
      "time taken to tune hyperparameters and cross validate  49.8916820000004\n"
     ]
    },
    {
     "data": {
      "text/plain": [
       "{'MSE': 1.970083237081234,\n",
       " 'R2': -0.013999202494952123,\n",
       " 'MAE': 1.1518290081738767,\n",
       " 'Time': 53.194489200000135}"
      ]
     },
     "execution_count": 40,
     "metadata": {},
     "output_type": "execute_result"
    }
   ],
   "source": [
    "RFR=Pipeline(RandomForestRegressor,X,y,'neg_mean_squared_error',parameters,select_features=False,tune_parameters=True)\n",
    "RFR"
   ]
  },
  {
   "cell_type": "markdown",
   "id": "315fa519",
   "metadata": {
    "slideshow": {
     "slide_type": "slide"
    }
   },
   "source": [
    "### Results and evaulation"
   ]
  },
  {
   "cell_type": "markdown",
   "id": "159a725c",
   "metadata": {
    "slideshow": {
     "slide_type": "subslide"
    }
   },
   "source": [
    "#### Evaulation metrics\n",
    "1.Mean squared error(MSE) =$\\frac{1}{n} \\Sigma_{i=1}^n({y}-\\hat{y})^2$\n",
    "\n",
    "2.R2 score= $1-{RSS}/{TSS}$ \n",
    "\n",
    "where $RSS=\\Sigma_{i=1}^n({y}-\\hat{y})^2$ , $TSS=\\Sigma_{i=1}^n({y}-\\bar{y})^2$, and $\\bar{y}=1/n\\Sigma_{i=1}^n({y})$\n",
    "RSS is residual sum of squares and TSS is total sum of s\n",
    "3.Mean absloute error(MAE) =$\\frac{1}{n} \\Sigma_{i=1}^n|({y}-\\hat{y})|$"
   ]
  },
  {
   "cell_type": "markdown",
   "id": "b60faa99",
   "metadata": {
    "slideshow": {
     "slide_type": "subslide"
    }
   },
   "source": [
    "> MSE and MAE are a direct a comparsion of the predicated value and the true value while R2 is the proportion of the variance in the dependent variable that is predictable from the independent variable(s)."
   ]
  },
  {
   "cell_type": "code",
   "execution_count": 41,
   "id": "65cb1048",
   "metadata": {
    "slideshow": {
     "slide_type": "skip"
    }
   },
   "outputs": [],
   "source": [
    "#create a dataframe out of all models results\n",
    "df_res=pd.DataFrame([RFR,RFR_FS,SVR_,SVR_FS,Ridge_,Ridge_FS,Lasso_,Lasso_FS,LR_,LR_FS],index=['RFR', 'RFR_FS','SVR','SVR_FS','Ridge','Ridge_FS','Lasso','Lasso_FS','LR','LR_FS'])\n",
    "df_res.reset_index(inplace=True)\n",
    "df_res=df_res.rename(columns = {'index':'model'})"
   ]
  },
  {
   "cell_type": "code",
   "execution_count": 42,
   "id": "9cf5ac48",
   "metadata": {
    "slideshow": {
     "slide_type": "subslide"
    }
   },
   "outputs": [
    {
     "data": {
      "text/html": [
       "<div>\n",
       "<style scoped>\n",
       "    .dataframe tbody tr th:only-of-type {\n",
       "        vertical-align: middle;\n",
       "    }\n",
       "\n",
       "    .dataframe tbody tr th {\n",
       "        vertical-align: top;\n",
       "    }\n",
       "\n",
       "    .dataframe thead th {\n",
       "        text-align: right;\n",
       "    }\n",
       "</style>\n",
       "<table border=\"1\" class=\"dataframe\">\n",
       "  <thead>\n",
       "    <tr style=\"text-align: right;\">\n",
       "      <th></th>\n",
       "      <th>model</th>\n",
       "      <th>MSE</th>\n",
       "      <th>R2</th>\n",
       "      <th>MAE</th>\n",
       "      <th>Time</th>\n",
       "    </tr>\n",
       "  </thead>\n",
       "  <tbody>\n",
       "    <tr>\n",
       "      <th>0</th>\n",
       "      <td>RFR</td>\n",
       "      <td>1.970083</td>\n",
       "      <td>-0.013999</td>\n",
       "      <td>1.151829</td>\n",
       "      <td>53.194489</td>\n",
       "    </tr>\n",
       "    <tr>\n",
       "      <th>1</th>\n",
       "      <td>RFR_FS</td>\n",
       "      <td>1.980636</td>\n",
       "      <td>-0.018423</td>\n",
       "      <td>1.159330</td>\n",
       "      <td>863.006535</td>\n",
       "    </tr>\n",
       "    <tr>\n",
       "      <th>2</th>\n",
       "      <td>SVR</td>\n",
       "      <td>1.967416</td>\n",
       "      <td>-0.009919</td>\n",
       "      <td>1.139090</td>\n",
       "      <td>1.475748</td>\n",
       "    </tr>\n",
       "    <tr>\n",
       "      <th>3</th>\n",
       "      <td>SVR_FS</td>\n",
       "      <td>1.940774</td>\n",
       "      <td>0.003332</td>\n",
       "      <td>1.131513</td>\n",
       "      <td>66.706837</td>\n",
       "    </tr>\n",
       "    <tr>\n",
       "      <th>4</th>\n",
       "      <td>Ridge</td>\n",
       "      <td>2.534022</td>\n",
       "      <td>-0.307621</td>\n",
       "      <td>1.203647</td>\n",
       "      <td>4.219801</td>\n",
       "    </tr>\n",
       "    <tr>\n",
       "      <th>5</th>\n",
       "      <td>Ridge_FS</td>\n",
       "      <td>2.192417</td>\n",
       "      <td>-0.128665</td>\n",
       "      <td>1.180659</td>\n",
       "      <td>33.898081</td>\n",
       "    </tr>\n",
       "    <tr>\n",
       "      <th>6</th>\n",
       "      <td>Lasso</td>\n",
       "      <td>1.974952</td>\n",
       "      <td>-0.017521</td>\n",
       "      <td>1.163537</td>\n",
       "      <td>9.099449</td>\n",
       "    </tr>\n",
       "    <tr>\n",
       "      <th>7</th>\n",
       "      <td>Lasso_FS</td>\n",
       "      <td>2.023583</td>\n",
       "      <td>-0.040117</td>\n",
       "      <td>1.170724</td>\n",
       "      <td>9.500133</td>\n",
       "    </tr>\n",
       "    <tr>\n",
       "      <th>8</th>\n",
       "      <td>LR</td>\n",
       "      <td>4.617187</td>\n",
       "      <td>-1.282035</td>\n",
       "      <td>1.355002</td>\n",
       "      <td>0.017075</td>\n",
       "    </tr>\n",
       "    <tr>\n",
       "      <th>9</th>\n",
       "      <td>LR_FS</td>\n",
       "      <td>2.476362</td>\n",
       "      <td>-0.283933</td>\n",
       "      <td>1.204457</td>\n",
       "      <td>35.521759</td>\n",
       "    </tr>\n",
       "  </tbody>\n",
       "</table>\n",
       "</div>"
      ],
      "text/plain": [
       "      model       MSE        R2       MAE        Time\n",
       "0       RFR  1.970083 -0.013999  1.151829   53.194489\n",
       "1    RFR_FS  1.980636 -0.018423  1.159330  863.006535\n",
       "2       SVR  1.967416 -0.009919  1.139090    1.475748\n",
       "3    SVR_FS  1.940774  0.003332  1.131513   66.706837\n",
       "4     Ridge  2.534022 -0.307621  1.203647    4.219801\n",
       "5  Ridge_FS  2.192417 -0.128665  1.180659   33.898081\n",
       "6     Lasso  1.974952 -0.017521  1.163537    9.099449\n",
       "7  Lasso_FS  2.023583 -0.040117  1.170724    9.500133\n",
       "8        LR  4.617187 -1.282035  1.355002    0.017075\n",
       "9     LR_FS  2.476362 -0.283933  1.204457   35.521759"
      ]
     },
     "execution_count": 42,
     "metadata": {},
     "output_type": "execute_result"
    }
   ],
   "source": [
    "df_res.head(10)"
   ]
  },
  {
   "cell_type": "markdown",
   "id": "877c38cd",
   "metadata": {
    "slideshow": {
     "slide_type": "slide"
    }
   },
   "source": [
    "#### Visualistion "
   ]
  },
  {
   "cell_type": "code",
   "execution_count": 43,
   "id": "0d1a0d7e",
   "metadata": {
    "slideshow": {
     "slide_type": "subslide"
    }
   },
   "outputs": [
    {
     "data": {
      "image/png": "[encoded data removed]",
      "text/plain": [
       "<Figure size 504x504 with 1 Axes>"
      ]
     },
     "metadata": {},
     "output_type": "display_data"
    }
   ],
   "source": [
    "sns.catplot(x='model',y='MSE',data=df_res,height=7,size=7,s=20);"
   ]
  },
  {
   "cell_type": "code",
   "execution_count": 44,
   "id": "feb934fc",
   "metadata": {
    "slideshow": {
     "slide_type": "subslide"
    }
   },
   "outputs": [
    {
     "data": {
      "image/png": "[encoded data removed]",
      "text/plain": [
       "<Figure size 504x504 with 1 Axes>"
      ]
     },
     "metadata": {},
     "output_type": "display_data"
    }
   ],
   "source": [
    "sns.catplot(x='model',y='R2',data=df_res,height=7,size=7,s=20);"
   ]
  },
  {
   "cell_type": "code",
   "execution_count": 45,
   "id": "f14760b0",
   "metadata": {
    "slideshow": {
     "slide_type": "subslide"
    }
   },
   "outputs": [
    {
     "data": {
      "image/png": "[encoded data removed]",
      "text/plain": [
       "<Figure size 504x504 with 1 Axes>"
      ]
     },
     "metadata": {},
     "output_type": "display_data"
    }
   ],
   "source": [
    "sns.catplot(x='model',y='Time',data=df_res,height=7,size=7,s=20);"
   ]
  },
  {
   "cell_type": "code",
   "execution_count": 46,
   "id": "063a30a0",
   "metadata": {
    "slideshow": {
     "slide_type": "subslide"
    }
   },
   "outputs": [
    {
     "data": {
      "image/png": "[encoded data removed]",
      "text/plain": [
       "<Figure size 504x504 with 1 Axes>"
      ]
     },
     "metadata": {},
     "output_type": "display_data"
    }
   ],
   "source": [
    "sns.catplot(x='model',y='MAE',data=df_res,height=7,size=7,s=20);"
   ]
  },
  {
   "cell_type": "markdown",
   "id": "fe33deef",
   "metadata": {
    "slideshow": {
     "slide_type": "slide"
    }
   },
   "source": [
    "### Conclusion"
   ]
  },
  {
   "cell_type": "markdown",
   "id": "ee97f6a9",
   "metadata": {
    "slideshow": {
     "slide_type": "subslide"
    }
   },
   "source": [
    ">From the graphs I can see that the models with feature selection preform better on MSE and MAE.\n",
    "\n",
    ">For R2 the scores were all negatives as can be the case when the variance in the test data is not captured by the variance in the model learned from the training data , this can be due to the small size of dataset. So in my conclusions I will not use it.\n",
    "\n",
    "\n",
    "\n"
   ]
  },
  {
   "cell_type": "markdown",
   "id": "66f361c1",
   "metadata": {
    "slideshow": {
     "slide_type": "subslide"
    }
   },
   "source": [
    "#### Linear Regression\n",
    "\n",
    "\n",
    "##### With feature selection\n",
    "* MSE:2.48 MAE:1.20 Time: 35.52 seconds \n",
    "\n",
    "##### Without feature selection \n",
    "* MSE:4.62 MAE:1.36 Time: 0.017 seconds\n",
    "\n",
    "> Feature selection does take quite a bit more of time but it seems to really improve the model here"
   ]
  },
  {
   "cell_type": "markdown",
   "id": "874c655e",
   "metadata": {
    "slideshow": {
     "slide_type": "subslide"
    }
   },
   "source": [
    "#### Lasso Regression\n",
    "\n",
    "##### With feature selection and hyperparameter tuning\n",
    "* MSE:2.02 MAE:1.17  Time:9.50 seconds\n",
    "\n",
    "#### Without feature selection \n",
    "\n",
    "* MSE:1.97 MAE:1.16  Time:9.10 seconds\n",
    "\n",
    "> Feature selection takes a comparable amount of time here as lasso leads to sparse coefficients and the model doesn't quite benfit from it\n",
    "\n",
    "> Lasso regression preforms better than ordinary linear regression in both cases"
   ]
  },
  {
   "cell_type": "markdown",
   "id": "14d12ed7",
   "metadata": {
    "slideshow": {
     "slide_type": "subslide"
    }
   },
   "source": [
    "#### Ridge Regression\n",
    "\n",
    "##### With feature selection and hyperparameter tuning\n",
    "* MSE:2.19 MAE:1.18  Time:33.90 seconds\n",
    "\n",
    "#### Without feature selection \n",
    "\n",
    "* MSE:2.53 MAE:1.20 Time: 4.22 seconds \n",
    "\n",
    "\n",
    "> Feature selection takes much more time here but it does improve the model.\n",
    "\n",
    "> Ridge regression preforms better than oridnary linear regression but worse than Lasso regression "
   ]
  },
  {
   "cell_type": "markdown",
   "id": "2ac774ee",
   "metadata": {
    "slideshow": {
     "slide_type": "subslide"
    }
   },
   "source": [
    "#### Support vector Regression \n",
    "\n",
    "##### With feature selection and hyperparameter tuning\n",
    "* MSE:1.94 MAE:1.13 Time:66.71 seconds\n",
    "\n",
    "#### Without feature selection \n",
    "\n",
    "* MSE:1.97 MAE:1.14 Time:1.48 seconds \n",
    "\n",
    "> Feature selection takes much more time here with no improvment.\n",
    "\n",
    "> SVR however does have the best results among all the models"
   ]
  },
  {
   "cell_type": "markdown",
   "id": "b7039ec0",
   "metadata": {
    "slideshow": {
     "slide_type": "subslide"
    }
   },
   "source": [
    "#### Random Regression Forest \n",
    "\n",
    " \n",
    "##### With feature selection and hyperparameter tuning\n",
    "* MSE:1.98 MAE:1.16 Time: 863 seconds \n",
    "\n",
    "#### Without feature selection \n",
    "\n",
    "* MSE:1.97 MAE:1.15 Time: 53.20 seconds \n",
    "\n",
    "> Feature selection takes much more time here and result in a negligble improvment \n",
    "\n",
    "> Random forest results are comparable with the lasso regression model."
   ]
  },
  {
   "cell_type": "markdown",
   "id": "3cbb0678",
   "metadata": {
    "slideshow": {
     "slide_type": "subslide"
    }
   },
   "source": [
    "* In conclusion support vector machine has the best results, with feature selection significantly improving Ridge and Ordinary Linear regression. \n",
    "\n",
    "* Feature selection slighlty improves svr. \n",
    "\n",
    "* Models with feature selection actually preforms worse with random forest and Lasso regression"
   ]
  },
  {
   "cell_type": "markdown",
   "id": "d63ce81d",
   "metadata": {
    "slideshow": {
     "slide_type": "slide"
    }
   },
   "source": [
    "#### Limitations and improvments \n",
    "\n",
    "* More training data would definitely help and then I would get a more concrete R2 score as well.\n",
    "* Wider hyperparameter grid to choose from and the compute resoruces to run it.\n",
    "* "
   ]
  },
  {
   "cell_type": "markdown",
   "id": "2d045a23",
   "metadata": {
    "slideshow": {
     "slide_type": "slide"
    }
   },
   "source": [
    "# Refreneces\n",
    "http://www3.dsi.uminho.pt/pcortez/fires.pdf\n",
    "https://www.un-spider.org/category/disaster-type/forest-fire\n",
    "https://sgp.fas.org/crs/misc/IF10244.pdf\n",
    "https://www.epa.gov/air-research/wildland-fire-research-health-effects-research#:~:text=Wildfires%20increase%20air%20pollution%20in,heart%20failure%2C%20and%20premature%20death.\n",
    "https://www.fs.usda.gov/pnw/page/fire-effects-environment\n",
    "https://www.unlv.edu/news/article/unlv-study-southwest-desert-ecosystems-can-take-decades-recover-wildfires\n",
    "https://www.sciencedirect.com/science/article/pii/S019005282100122X\n",
    "\n",
    "### Thank you"
   ]
  }
 ],
 "metadata": {
  "kernelspec": {
   "display_name": "Python 3 (ipykernel)",
   "language": "python",
   "name": "python3"
  },
  "language_info": {
   "codemirror_mode": {
    "name": "ipython",
    "version": 3
   },
   "file_extension": ".py",
   "mimetype": "text/x-python",
   "name": "python",
   "nbconvert_exporter": "python",
   "pygments_lexer": "ipython3",
   "version": "3.9.7"
  }
 },
 "nbformat": 4,
 "nbformat_minor": 5
}
